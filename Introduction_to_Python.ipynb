{
  "nbformat": 4,
  "nbformat_minor": 0,
  "metadata": {
    "colab": {
      "provenance": [],
      "toc_visible": true,
      "authorship_tag": "ABX9TyN97BcYjNbhxcNuLmVw+hK7",
      "include_colab_link": true
    },
    "kernelspec": {
      "name": "python3",
      "display_name": "Python 3"
    },
    "language_info": {
      "name": "python"
    }
  },
  "cells": [
    {
      "cell_type": "markdown",
      "metadata": {
        "id": "view-in-github",
        "colab_type": "text"
      },
      "source": [
        "<a href=\"https://colab.research.google.com/github/dfsosa785/optimalityai/blob/main/Introduction_to_Python.ipynb\" target=\"_parent\"><img src=\"https://colab.research.google.com/assets/colab-badge.svg\" alt=\"Open In Colab\"/></a>"
      ]
    },
    {
      "cell_type": "markdown",
      "source": [
        "![optimality.png](data:image/png;base64,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)"
      ],
      "metadata": {
        "id": "C7Mi-h-mGsh1"
      }
    },
    {
      "cell_type": "markdown",
      "source": [
        "# Introducción Python (10 minutos)\n",
        "Python es un lenguaje de programación versátil y apto para principiantes conocido por su simplicidad y legibilidad."
      ],
      "metadata": {
        "id": "qStMChw3QiqQ"
      }
    },
    {
      "cell_type": "markdown",
      "source": [
        "- **Versatilidad**: Python es un lenguaje versátil que se utiliza en varios dominios, como desarrollo web, análisis de datos, inteligencia artificial, informática científica y más. Su amplia gama de bibliotecas y marcos lo hace adaptable a muchas tareas.\n",
        "\n",
        "- **Legibilidad**: la sintaxis clara y concisa de Python se asemeja al lenguaje natural, lo que facilita a los principiantes comprender y escribir código. Esta legibilidad fomenta una curva de aprendizaje suave.\n",
        "\n",
        "- **Lenguaje interpretado**: Python es un lenguaje interpretado, lo que significa que puedes escribir y ejecutar código sin la necesidad de complejos pasos de compilación. Esto fomenta el rápido desarrollo y la experimentación.\n",
        "\n",
        "- **Gran comunidad y bibliotecas**: Python tiene una vasta y activa comunidad de desarrolladores que contribuyen a un extenso ecosistema de bibliotecas. Estas bibliotecas simplifican tareas complejas y ahorran tiempo, lo que convierte a Python en una opción productiva.\n",
        "\n",
        "- **Multiplataforma**: Python está disponible en múltiples plataformas (Windows, macOS, Linux) y admite aplicaciones web y de escritorio. El código escrito en Python suele ser portátil entre diferentes sistemas.\n",
        "\n",
        "- **Código abierto**: Python es de código abierto, lo que significa que está disponible gratuitamente y cualquiera puede contribuir a su desarrollo. Esto fomenta la innovación y garantiza una gran cantidad de recursos y documentación.\n",
        "\n",
        "- **Apto para principiantes**: la simplicidad de Python, junto con su sintaxis clara y consistente, lo convierte en una excelente opción para principiantes. Se centra en enseñar conceptos fundamentales de programación sin complejidad innecesaria.\n",
        "\n",
        "- Excelente para la creación rápida de prototipos: Python se prefiere para la creación rápida de prototipos y el desarrollo de aplicaciones de prueba de concepto debido a su facilidad de uso y una amplia gama de herramientas disponibles."
      ],
      "metadata": {
        "id": "-8eK_bU-H-DR"
      }
    },
    {
      "cell_type": "markdown",
      "source": [
        "En resumen, la versatilidad, legibilidad y naturaleza amigable para principiantes de Python lo convierten en una opción ideal para personas nuevas en programación, así como para desarrolladores experimentados que buscan un lenguaje eficiente y potente para diversas aplicaciones. Su adaptabilidad y amplio apoyo de la comunidad consolidan aún más su posición como lenguaje popular en el mundo de la programación."
      ],
      "metadata": {
        "id": "YXRh3M7JRAEi"
      }
    },
    {
      "cell_type": "markdown",
      "source": [
        "# \"Hello, World!\""
      ],
      "metadata": {
        "id": "FE-1yO7NRqIM"
      }
    },
    {
      "cell_type": "markdown",
      "source": [
        "\n",
        "\n",
        "1. **Programa**\n",
        "- Un programa es un conjunto de instrucciones que le dicen a una computadora qué hacer. Es una secuencia de código escrito en un lenguaje de programación, como Python, para realizar una tarea específica o resolver un problema particular. Los programas pueden abarcar desde tareas simples, como imprimir \"¡Hola, mundo!\" a la pantalla, a aplicaciones y sistemas complejos.\n",
        "\n",
        "2. **Declaraciones**\n",
        "- En Python, una declaración es una sola línea de código o un comando que realiza una acción específica. Las declaraciones son los componentes básicos de un programa Python. Se ejecutan uno tras otro, en secuencia, para lograr el resultado deseado. Cada declaración en Python generalmente realiza una operación, como asignar un valor a una variable, realizar un cálculo o controlar el flujo del programa usando estructuras de control como declaraciones if y while.\n",
        "\n",
        "3. **Importancia de print()**\n",
        "- La función print() en Python es crucial porque le permite mostrar información al usuario o inspeccionar la salida del programa. Aquí hay algunos puntos clave con respecto a la importancia de print():\n",
        "\n",
        "- Salida: print() se utiliza para enviar texto, variables o resultados de cálculos a la consola. Esto es esencial para comunicarse con el usuario y proporcionar retroalimentación.\n",
        "\n",
        "- Depuración: durante el desarrollo y la depuración de un programa, las declaraciones print() son invaluables para inspeccionar los valores de las variables y comprender cómo fluye el programa. Ayudan a identificar problemas y verificar que el programa esté funcionando según lo previsto.\n",
        "\n",
        "- Documentación: las declaraciones print() pueden servir como una forma de documentación dentro de su código. Ayudan a otros (incluido usted mismo en el futuro) a comprender qué está haciendo el programa en diferentes puntos.\n",
        "\n",
        "- Interacción del usuario: en programas interactivos, print() se utiliza para mostrar indicaciones o mensajes al usuario y para solicitar información a través de la función input()."
      ],
      "metadata": {
        "id": "NqGSJ1VNSbEp"
      }
    },
    {
      "cell_type": "code",
      "source": [
        "print(\"Hello, World!\")"
      ],
      "metadata": {
        "colab": {
          "base_uri": "https://localhost:8080/"
        },
        "id": "eIbz6emQS3Kd",
        "outputId": "0993f573-da9d-4522-fee0-8c8c70d39362"
      },
      "execution_count": 3,
      "outputs": [
        {
          "output_type": "stream",
          "name": "stdout",
          "text": [
            "Hello, World!\n"
          ]
        }
      ]
    },
    {
      "cell_type": "markdown",
      "source": [
        "*En resumen, un programa es un conjunto de instrucciones, las declaraciones son comandos individuales dentro de un programa y la función print() es esencial para mostrar resultados, ayudar en la depuración y comunicarse con los usuarios en programas Python.*"
      ],
      "metadata": {
        "id": "ZrTOTVaGUXCO"
      }
    },
    {
      "cell_type": "markdown",
      "source": [
        "# Variables - Tipo de Datos (15 minutes)"
      ],
      "metadata": {
        "id": "ABmovSt-VRoF"
      }
    },
    {
      "cell_type": "markdown",
      "source": [
        "**Las variables** en Python se utilizan para almacenar y administrar datos. Actúan como contenedores con nombre que contienen valores, lo que le permite hacer referencia a estos valores y manipularlos en todo su programa. Las variables tienen un nombre y un valor asociado a ellas.\n",
        "\n",
        "ejemplo de variables en Python:\n",
        "\n",
        "**Definición**: Las variables en Python son nombres simbólicos que representan valores o datos almacenados en la memoria de la computadora. Se utilizan para almacenar y manipular datos dentro de un programa.\n",
        "\n",
        "**Propósito de las Variables:**\n",
        "\n",
        "**Almacenamiento de datos**: las variables le permiten almacenar datos, como números, texto u objetos, para que pueda utilizar y manipular estos datos más adelante en su programa.\n",
        "\n",
        "**Manipulación de datos**: puede realizar operaciones, cálculos y transformaciones sobre los datos almacenados en variables, lo cual es esencial para resolver problemas y crear aplicaciones.\n",
        "\n",
        "**Referenciación de valores**: las variables proporcionan una forma de hacer referencia y acceder a datos en todo su programa, lo que facilita el trabajo y la gestión de datos."
      ],
      "metadata": {
        "id": "wKxZWMbHVv7p"
      }
    },
    {
      "cell_type": "code",
      "source": [
        "# Variable declaration and assignment\n",
        "name = \"John\"\n",
        "age = 30\n",
        "height = 175.5\n",
        "\n",
        "# Using variables in operations\n",
        "birth_year = 2023 - age\n",
        "current_year = 2023\n",
        "age_next_year = age + 1\n",
        "\n",
        "# Displaying the values of variables\n",
        "print(\"Name:\", name)\n",
        "print(\"Age:\", age)\n",
        "print(\"Height:\", height)\n",
        "print(\"Birth Year:\", birth_year)\n",
        "print(\"Current Year:\", current_year)\n",
        "print(\"Age Next Year:\", age_next_year)\n",
        "\n"
      ],
      "metadata": {
        "colab": {
          "base_uri": "https://localhost:8080/"
        },
        "id": "yosonjH4WN3G",
        "outputId": "37b06ce4-ca0c-432d-9878-e27a33f5f155"
      },
      "execution_count": 5,
      "outputs": [
        {
          "output_type": "stream",
          "name": "stdout",
          "text": [
            "Name: John\n",
            "Age: 30\n",
            "Height: 175.5\n",
            "Birth Year: 1993\n",
            "Current Year: 2023\n",
            "Age Next Year: 31\n"
          ]
        }
      ]
    },
    {
      "cell_type": "markdown",
      "source": [
        "**En este ejemplo:**\n",
        "\n",
        "Se declaran y asignan valores a tres variables (nombre, edad y altura).\n",
        "Las operaciones se realizan utilizando estas variables, como calcular el año_nacimiento, el año_actual y la edad_año_siguiente.\n",
        "La función print() se utiliza para mostrar los valores de estas variables.\n",
        "Las variables son un concepto fundamental en la programación, ya que le permiten trabajar y manipular datos dinámicamente, lo que hace que su código sea flexible y potente."
      ],
      "metadata": {
        "id": "icQNySTtWmJR"
      }
    },
    {
      "cell_type": "markdown",
      "source": [
        "En Python, existen varios tipos de datos comunes, incluidos números enteros, flotantes y cadenas. Exploremos cada tipo de datos y cómo usarlos"
      ],
      "metadata": {
        "id": "69GN7QJ4XpyW"
      }
    },
    {
      "cell_type": "markdown",
      "source": [
        "1. **Números enteros (int):**\n",
        "\n",
        "Los números enteros representan números enteros, tanto positivos como negativos, sin punto decimal.\n",
        "Ejemplos de números enteros: 0, 1, -100, 42, 1000, etc."
      ],
      "metadata": {
        "id": "rtV1isPJX063"
      }
    },
    {
      "cell_type": "code",
      "source": [
        "# Examples of integers\n",
        "age = 30\n",
        "quantity = -10"
      ],
      "metadata": {
        "id": "zx_P7-RlX5Ct"
      },
      "execution_count": 6,
      "outputs": []
    },
    {
      "cell_type": "markdown",
      "source": [
        "2. **Floats (float):**\n",
        "\n",
        "Los floats, representan números con puntos decimales o fracciones.\n",
        "Ejemplos de flotadores: 3,14, -0,5, 2,0, 9,99, etc."
      ],
      "metadata": {
        "id": "pQi5TmSwYBMC"
      }
    },
    {
      "cell_type": "code",
      "source": [
        "# Examples of floats\n",
        "pi = 3.14159\n",
        "temperature = 98.6"
      ],
      "metadata": {
        "id": "U4OUcaqfYPks"
      },
      "execution_count": 7,
      "outputs": []
    },
    {
      "cell_type": "markdown",
      "source": [
        "3. **Strings (str):**\n",
        "\n",
        "Las *strings* representan secuencias de caracteres, como letras, números y símbolos, encerrados entre comillas simples (' '), dobles (\" \") o triples (''' ''' o \"\"\" \"\"\").\n",
        "Ejemplos de cadenas: \"¡Hola mundo!\", 'Python', \"12345\", etc."
      ],
      "metadata": {
        "id": "B9vdxjoUYZ0s"
      }
    },
    {
      "cell_type": "code",
      "source": [
        "# Examples of strings\n",
        "greeting = \"Hello, World!\"\n",
        "name = 'Alice'\n",
        "sentence = \"Python is a versatile language.\""
      ],
      "metadata": {
        "id": "biBJCnIJYkIs"
      },
      "execution_count": 8,
      "outputs": []
    },
    {
      "cell_type": "markdown",
      "source": [
        "**Asignación de variables:**\n",
        "\n",
        "puede asignar valores de estos tipos de datos a variables utilizando el operador de asignación (=)."
      ],
      "metadata": {
        "id": "GoOMmfLPn1iq"
      }
    },
    {
      "cell_type": "code",
      "source": [
        "# Assigning values to variables\n",
        "age = 30\n",
        "temperature = 98.6\n",
        "greeting = \"Hello, World!\""
      ],
      "metadata": {
        "id": "4TTGDFZFn3Wz"
      },
      "execution_count": 10,
      "outputs": []
    },
    {
      "cell_type": "code",
      "source": [
        "# Arithmetic operations\n",
        "x = 10\n",
        "y = 3\n",
        "sum_result = x + y  # Adds two integers\n",
        "product_result = x * 1.5  # Multiplies an integer by a float\n",
        "\n",
        "# String concatenation\n",
        "first_name = \"John\"\n",
        "last_name = \"Doe\"\n",
        "full_name = first_name + \" \" + last_name  # Combines two strings"
      ],
      "metadata": {
        "id": "UVH5iYM_oA3U"
      },
      "execution_count": 11,
      "outputs": []
    },
    {
      "cell_type": "code",
      "source": [
        "age_str = \"25\"\n",
        "age_int = int(age_str)  # Converts a string to an integer\n",
        "price_float = 19.99\n",
        "price_str = str(price_float)  # Converts a float to a string"
      ],
      "metadata": {
        "id": "-lsQN_YJoEAK"
      },
      "execution_count": 12,
      "outputs": []
    },
    {
      "cell_type": "code",
      "source": [],
      "metadata": {
        "id": "9J4HFs4EoGQj"
      },
      "execution_count": null,
      "outputs": []
    },
    {
      "cell_type": "markdown",
      "source": [
        "Comprender y utilizar eficazmente estos tipos de datos comunes es esencial en la programación Python, ya que forman la base para trabajar con varios tipos de datos y realizar operaciones con ellos."
      ],
      "metadata": {
        "id": "r9wTv1QcoJ5g"
      }
    }
  ]
}