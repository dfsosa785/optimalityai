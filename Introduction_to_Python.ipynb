{
  "nbformat": 4,
  "nbformat_minor": 0,
  "metadata": {
    "colab": {
      "provenance": [],
      "toc_visible": true,
      "authorship_tag": "ABX9TyMvxtctIZFy+WbUfU+oJnMV",
      "include_colab_link": true
    },
    "kernelspec": {
      "name": "python3",
      "display_name": "Python 3"
    },
    "language_info": {
      "name": "python"
    }
  },
  "cells": [
    {
      "cell_type": "markdown",
      "metadata": {
        "id": "view-in-github",
        "colab_type": "text"
      },
      "source": [
        "<a href=\"https://colab.research.google.com/github/dfsosa785/optimalityai/blob/main/Introduction_to_Python.ipynb\" target=\"_parent\"><img src=\"https://colab.research.google.com/assets/colab-badge.svg\" alt=\"Open In Colab\"/></a>"
      ]
    },
    {
      "cell_type": "markdown",
      "source": [
        "![optimality.png](data:image/png;base64,iVBORw0KGgoAAAANSUhEUgAAAPsAAAAyCAYAAACala3aAAAAAXNSR0IArs4c6QAAAARnQU1BAACxjwv8YQUAAAAJcEhZcwAAEnQAABJ0Ad5mH3gAABHgSURBVHhe7dwFtBxFEwXgxt0dggUJ7u7u7g7BLbi7u7sGl+AOIcHd5eAOQYNrIMj88zU7YfOybyXZh/zb95w5+7JjLXWrblX3ZqgsR0hISPi/x9Clz4SEhP9zJLInJLQIEtkTEloEiewJCS2CRPaEhBZBIntCQosgkT0hoUWQyJ6Q0CJIZE9IaBEksicktAgS2RMSWgSJ7AkJLYJE9oSEFkEie0JCiyCRPSGhRZDInpDQIkhkT0hoESSyJyS0CP72/5bK637++efw008/hd9//z2MNNJIYZRRRglDDz2o3/njjz9Cv3794rVDDTVUvNZR6dqEhITq+FvI/ttvv4U+ffqEnj17hieffDJ8+umn4YcffgjDDDNMJPGEE04YFlpoobDMMsuEySefPJ7v1atXePDBB+PfP/74Y3wOpzDmmGOGeeedNyy77LJhuummS8RPSKgTHUp2j0bWyy67LDz++OORzAsuuGCYeuqpY4SGX375JXzwwQfh4YcfDvfee2/o379/dAQrrLBCWGKJJSL5Rx555AGK4KOPPgqPPPJIuP/++0OnTp1C165dQ+fOneOzEhIS2keHkZ1Ef/nll8PZZ58dZpppprDeeuuFccYZp3R2YJDrb731Vjj99NPDJ598EkYcccSw++67h9lnn710xaD4/vvvwx133BFuu+22sO2220Yn0kxQI99++210PNoz+uijD3BQlWAYf/3119K/BgUFMuyww5b+9ReMk6MRUEOe5RPcTyU1ilr3Oa/dxXvqgXFwX6W+VoK59/xG3tH2Hv82X41iuOGGG/CMwRlD76y3n5XQ6P2DO88FOoTsGoXoZ511Vlh11VXDcsst1+5kmqh33nknnHnmmZHA8nOOAZG32mqrMOecc5auHBTI9cILL4Tzzz8/bLjhhmGRRRYpnRk8aAslcv3118fj2WefHWDwU0wxRVh55ZXDuuuuG2aZZZaB+sMh3HDDDeGcc86Jxl4JI4wwQlQpK664YlhppZWiWvnss8/CoYceGp577rnSVX+SxbPbPqf8fVKZnXbaKSy++OLhvvvui/2XBu24445h+OGHL11VGcbs+eefj074ww8/DJNMMklUR8XY6S/H6/wrr7wSxh133LDKKquENddcM5KjErSVY7ziiivCrbfeGv/N+W6xxRbx+ZXgPa+++mo48sgjwxhjjBEOO+ywMP7445fOVob5ee2118IhhxwS23XwwQfH1G7//fcPTzzxRLymfJwqzUUxthz4DjvsENZYY43w2GOPhWOPPTbO69577x0dezWY71NOOSUqzF133TUq1nqB4HfffXe4+OKLwxdffBFT0c033zzMNddcpSsGhTR2zz33DO+++24crznmmKN0pjF0CNnJ8gsvvDA2CtmrgcGfe+654Ztvvgn77bdfuPHGG6MBI9VNN90UjWDSSSctXT0oDN6LL74YnQU1MMMMM5TONAYpghqBwUTMDTbYIIw66qjRMLwD4Z2/88474wRvueWWAyK9tl9wwQVxErfffvuKRoZknNrNN98cZpxxxnD88cdHg5PeSE0KMEakQlrP8W9tQ47iud6rbqGd++67b/j6668jCa655pr47PagDQxUGzkdxs25nXfeedF4l19++fDGG2+ETTfdNMw888yxLqJtDHPjjTcOu+2220BkKvDdd99Fstx+++3R4Yw22mjhlltuCR9//HG46qqrYk2mLTh1weDaa6+NZDfem222WelsZbjnhBNOiCmfMUeA1VdfPRIdEQpoI2da3lZjaB4LGOO55547tm2fffaJ42Acp5xyynDiiSfGPlSCgHT44YdHO1hsscViO6Sp9cAcGg92uscee8R01nz4TrAwp21hzh999NE4N8aHU73kkktKZxtE/rCmIp/4LG94lg9Ilneu9G1l5JOX5YOW5ROW5ZE5y40uy71d/FxrrbWyfBCyPPLVfE6/fv2ynj17ZrmnzvIJLX1bP9yfG2eWpw3ZEUcckeVGmOVOIxtrrLGyaaedNptooomyPOpkuSFnPXr0yJZccsksj6xZbkDx/txIspNPPjnLI1n8dznyaJS9/vrr2TzzzJPl0S7r3r177NsxxxyT9enTJ8sJleWkHejo1KlTlhtQlhM4yw0qy4k/0Pk8WmY5sbPcQLOcmFke6bI8MmRPP/106a2DQjtyJxzfffTRR2c54bM8Ksa+5M42W3TRRbMvv/wytmv99dfP8ugV7+vfv3/Wq1evrEuXLtnbb78dvyuH8717985ykmSXXnppNttss2W5gslOPfXULFcDWU6c0pUDI49W2XHHHRfbs80222RnnHFG6Uz70KacmFm3bt2y3FllV155ZZYbf7bOOusMND6OXP3EeczTwixXZAONob+dZ2fab04nm2yy+Ln00ktnuaKMdtwWvssdTJYHsSwPSlnnzp3jM+qB8e/bt2+WO+MsV01xbIx/Tvo45quttlqWO+PS1X+B7efBL8udUpYHtCwPnqUzjaPppWze/IEHHgi5wdSslIvq99xzT9h6662jt1N04+FIK9JIDv/SSy/FqFUNIqRIRDI+9NBDpW/rA28rmuXGFuW1NpHFInxu3CEnaozI2kVOHXXUUTEKaZeoVAuiiwLi1VdfHXKjjJFJxBSFc8MLl19+eexfcUhLKBzSlEeX00mJyq8hO0nrRkB6iiCkozTAqohUSQRUJCXdKTL9pQ6kUN4lAqq5jD322PF8W1gatXKimKpduVMLBx10UMidXxxPUUg06iiIwFKO8vExXtSKcdQmK0HUX3FeH40ztaJ/OdFiSiDaUmxUAnsUxQsUEZ29HnjggVHlbLfddjFVqQfsjPKj2LwTT6gDdiVFNB/PPPNM6epBkXO1oqpqBE0le1EtZ8RTTTVV6dvKIKkKx2BiDAJZhvDyZTkichiEeghMCkobSLxGQIYp8nm/AmIeHSMxGUAe2eM1nIkc9KSTTopOrKgRIC75B9UKWQhLHnqmcSnuQTy5p8kuDtf5tCphPOX57im/RlpjjOtFkacjHkeltpArmJjy5Kol5sKMCekdjFG9Io/0pSf82QfXlMN9HADJPv/880fSK5YiuRRBsVVObcm12SjaYsw5ovLxcRgzBCPN9ZFkLj+fR/I4r2DuN9poo1g/QXKOjoNHaCRvS3ROQb7vfK2AVsB8Cg7GX1qUq5kw33zzhVzZRKcrbeX4OxJNJTsP/uabb4YFFlig9E37EGl4XJ1XkDOIjAzhOYDrrrsuet4iwrU1tLYQoRBD0Ue0qQeeiXC8v2KXeoH35dK9dMXAEBG1lSG99957MWJzTnJ7zmmvvfYqXTkoGN7nn38eDwRA5MLY2qLoq89a/a6Foo8cVC7ZI4nlmrlcHXC+LYrvakWSIqorrHmHIuGss84ao61ippoLI6ZiOIZ/MwrCI7WaDKfFUQg25UTnDNQ8XFMv0fXduLMz6pPdy8FV1o2PCM9Zsvny+k2z0VSyiyC8YLWCWgGeTlRgJEsttVQkEaIVEb4g/MILLxyJbOBrwXU8NileDwp1QcaLXIw7z11LZytDtFe5fuqpp+LSIOnlXpM4zTTTxP6rSIucu+yySzx23nnnmKooXnEQiE4q2yfQ0VDU4sRI2zyfjkVGbSoMtV5p6Lpyx+Dvr776KhoqxSJqKcZ6LtXBoXAGHCFVUVTL/80QbCg2KZw5U6jUv3Kim8NGiA7szPgoJio+C2IcpGewg6IwKhVVwG0PlRxzI2gq2U0uz0RS1wLHwMOR3fJlhDfQqsvlkv6iiy6KZCp20VUDgzSA9TgGEG2pEdVt9yIf46wGbSMbLUtxavpsEjzLdybSshhHxug9mxMiHRmKCVW99TfjGlJUIysj0yYrIyKVT1FKW4YUnDUCm0NLVeaIcgBzMMEEE0QngCiMvD0jLpxIvYbs+uLoCJQTnlpDzoLo3bp1i46ykXfrF04gOwdoHEj3AsZN/cVqjvf6bKtMva8R59Iemkp2DSJN65VsyCI/kttZhmEs5YS35ilyklL1dNZ7Rc16Nx4YaDmzCCWfrSf9QGCRXeQWNbUT+vbtG3N6kd+ncyKa9jvkrSICaavwOKR7AgDJNtlkkygBK4HT6969e4zoSC89Ia+bAc6X4VrCI+XXXnvtSOzTTjstHhyLeojvFPiswZvnAsbNvRRPvTD20j41gSGNctWA8AhpXDlJhT7OWbRv1MlwuGoaIrj+s3GBrhgnS8bvv/9+nCs2zm7K606+M36WRocUTSW7KKYYQprXgolTEEMOXtMGDx0vIjxJj4w8bJcuXWpudAADI4q2t1OvLTzfWqsCiXXvrl27ls60D5NNgtkoJAWQfytqcUjWTDkM/TG5ckBkdIgI3iNSFBFwSGG8pR2VNq4wGhJUvUMufdddd0UnOiRqojD0QjEonCryKWpaPSFFpV8O50Q0254pCcTR/wLG3r3Gv164h+Gr+P8doF4Qkz3rR6NEB2kdJccZ2k8iRy8K08XBbqzQ6J/rOMpysGcqY0jRVLIjsCKWJataoACQ84ADDohSGkEYRxHhVb1tdlDw4xDa2+RQQFTnHS2b1NqJVQ5tZkAKdO0VzNpCVKEG5O2q9NSE9zJqubFogFgkPcI7RAq7pBC0oyGlsJTGeWoL1aJy3F7hsV4U0ZTM7N27d+y7fsvVpScKlMXuw+KQhtksIor7m2P8L2JwiG4eEJnC4WTNPdsm29uOU48ePWLdijMwtpZ2m42mkl30ValWdawl5UVg0Y/nk5/bhYXcIhIPKMIjvPXaeuQ1WWm5hGE1IxeuBm0VKYHBF5A+8M4cyD8JztMyjtUJUUTkp5YaRSWpbF7JUUVIfVf8qxV1jAcFYo7UYVoFFJCobucbKS9lrVYT4lA4ZPtM7EZsNppKdiSbeOKJYwGLrK0GUV1BzL5gZCbXySXrj5blbJSYfvrpYzQkQ2vBvSSyzR0dCVFNjmopS/QuFEdH5pCNgMrw60F7BzhMmzZEXM61EhgkAsuhVeqpK+T0XblhFv0rns+pgfXrar9fAEasNsKI225EYgfeJ09tG+0c2q9d/3ZFIIorWAp0YPxEZzULKzBUoFSgFoyrugqFSxE0E00lO8jZFZ8UZETpamAAKpQiBQmD8NahFW0UvJBJflYpJy2HSGswORpqoSPA2G0yQXLVWRX3tst0rimOfwLeaywV5dQfEF40sfZdCUjmhxhyab9BYJjGm+FawrSUWA6k5YjVAhTJinX0okhZDSSsvFTEsoutACekjd5JxRWHIqdDLcWuNs7/n0Kt+dT2YgmSgqJ6OFGqR21H4JOL17MKwvnhhNWMastwg4Omk13ea/1ZHowY1eQ8JaBIIwKpWMtxbUe1YYVEFPkNUjWINLypanc9BbZGIJqoqHNctlMycLvrVNMZaKU8zneVvm8E5fc38ixjLS1S52BgCkzVflwiciOrpVKRhKO0u8+8qaWUq4GiHQpW9jEUuWi9v/iS4ii0yu/Ljdj3HI6aAucpUDj87bDPQmooRRscNMPx1poD425MBC+H1Ml7pS0KzzYVNZJGGXfbcNlaNf40imEO8XvBJkNjRXiyxq+6yLz28mjOgRdT6OHxbTCw1CGCiDbjjTde6cpBYTDtN1bccI9o1EwowtlaKj/ncRHHKgFSlBuAiXXeVleyVrFK/wcHnmv8ODoOj1qpVlhzvbFVxFTZ9l7kIActFVXb4ORedRbOVuol13cvkyj/GWXRpqJf+i+a2TLaSNEPsd3vk5MvwKA5ePvXiwp4cTjnWmpP8Re0h1LgPCr9os55dqVQK0p6p7Y3Cn2misypWlB7xVX9cQ0YG0HH+ykj6tZyoTHWrnrgOvMm2JhTtgXGnI2Vj10j6LD/vAJ4O4UiSzKkGNIXDW8L8t0eeQUNE2MNsj3CkEicg2fzogjYjI0ilcDYDJEJTUj4L6NDyQ7FJgFbX3lt0oy3FEkQSL5tucp6I+LyoCQbr04i8mKilma61i+WSEg71OT5ih7WuhMSEqqjw8leAOltxFBZRVhEJz9FaVLd+iPpiLgq3q7lAKiCIgUoriWJXFtra2tCQsJf+NvInpCQ8M+i6dX4hISEfycS2RMSWgSJ7AkJLYJE9oSEFkEie0JCiyCRPSGhRZDInpDQEgjhf9Hg2inENhk6AAAAAElFTkSuQmCC)"
      ],
      "metadata": {
        "id": "C7Mi-h-mGsh1"
      }
    },
    {
      "cell_type": "markdown",
      "source": [
        "# Introducción Python (10 minutos)\n",
        "Python es un lenguaje de programación versátil y apto para principiantes conocido por su simplicidad y legibilidad."
      ],
      "metadata": {
        "id": "qStMChw3QiqQ"
      }
    },
    {
      "cell_type": "markdown",
      "source": [
        "- **Versatilidad**: Python es un lenguaje versátil que se utiliza en varios dominios, como desarrollo web, análisis de datos, inteligencia artificial, informática científica y más. Su amplia gama de bibliotecas y marcos lo hace adaptable a muchas tareas.\n",
        "\n",
        "- **Legibilidad**: la sintaxis clara y concisa de Python se asemeja al lenguaje natural, lo que facilita a los principiantes comprender y escribir código. Esta legibilidad fomenta una curva de aprendizaje suave.\n",
        "\n",
        "- **Lenguaje interpretado**: Python es un lenguaje interpretado, lo que significa que puedes escribir y ejecutar código sin la necesidad de complejos pasos de compilación. Esto fomenta el rápido desarrollo y la experimentación.\n",
        "\n",
        "- **Gran comunidad y bibliotecas**: Python tiene una vasta y activa comunidad de desarrolladores que contribuyen a un extenso ecosistema de bibliotecas. Estas bibliotecas simplifican tareas complejas y ahorran tiempo, lo que convierte a Python en una opción productiva.\n",
        "\n",
        "- **Multiplataforma**: Python está disponible en múltiples plataformas (Windows, macOS, Linux) y admite aplicaciones web y de escritorio. El código escrito en Python suele ser portátil entre diferentes sistemas.\n",
        "\n",
        "- **Código abierto**: Python es de código abierto, lo que significa que está disponible gratuitamente y cualquiera puede contribuir a su desarrollo. Esto fomenta la innovación y garantiza una gran cantidad de recursos y documentación.\n",
        "\n",
        "- **Apto para principiantes**: la simplicidad de Python, junto con su sintaxis clara y consistente, lo convierte en una excelente opción para principiantes. Se centra en enseñar conceptos fundamentales de programación sin complejidad innecesaria.\n",
        "\n",
        "- Excelente para la creación rápida de prototipos: Python se prefiere para la creación rápida de prototipos y el desarrollo de aplicaciones de prueba de concepto debido a su facilidad de uso y una amplia gama de herramientas disponibles."
      ],
      "metadata": {
        "id": "-8eK_bU-H-DR"
      }
    },
    {
      "cell_type": "markdown",
      "source": [
        "En resumen, la versatilidad, legibilidad y naturaleza amigable para principiantes de Python lo convierten en una opción ideal para personas nuevas en programación, así como para desarrolladores experimentados que buscan un lenguaje eficiente y potente para diversas aplicaciones. Su adaptabilidad y amplio apoyo de la comunidad consolidan aún más su posición como lenguaje popular en el mundo de la programación."
      ],
      "metadata": {
        "id": "YXRh3M7JRAEi"
      }
    },
    {
      "cell_type": "markdown",
      "source": [
        "# \"Hello, World!\""
      ],
      "metadata": {
        "id": "FE-1yO7NRqIM"
      }
    },
    {
      "cell_type": "markdown",
      "source": [
        "\n",
        "\n",
        "1. **Programa**\n",
        "- Un programa es un conjunto de instrucciones que le dicen a una computadora qué hacer. Es una secuencia de código escrito en un lenguaje de programación, como Python, para realizar una tarea específica o resolver un problema particular. Los programas pueden abarcar desde tareas simples, como imprimir \"¡Hola, mundo!\" a la pantalla, a aplicaciones y sistemas complejos.\n",
        "\n",
        "2. **Declaraciones**\n",
        "- En Python, una declaración es una sola línea de código o un comando que realiza una acción específica. Las declaraciones son los componentes básicos de un programa Python. Se ejecutan uno tras otro, en secuencia, para lograr el resultado deseado. Cada declaración en Python generalmente realiza una operación, como asignar un valor a una variable, realizar un cálculo o controlar el flujo del programa usando estructuras de control como declaraciones if y while.\n",
        "\n",
        "3. **Importancia de print()**\n",
        "- La función print() en Python es crucial porque le permite mostrar información al usuario o inspeccionar la salida del programa. Aquí hay algunos puntos clave con respecto a la importancia de print():\n",
        "\n",
        "- Salida: print() se utiliza para enviar texto, variables o resultados de cálculos a la consola. Esto es esencial para comunicarse con el usuario y proporcionar retroalimentación.\n",
        "\n",
        "- Depuración: durante el desarrollo y la depuración de un programa, las declaraciones print() son invaluables para inspeccionar los valores de las variables y comprender cómo fluye el programa. Ayudan a identificar problemas y verificar que el programa esté funcionando según lo previsto.\n",
        "\n",
        "- Documentación: las declaraciones print() pueden servir como una forma de documentación dentro de su código. Ayudan a otros (incluido usted mismo en el futuro) a comprender qué está haciendo el programa en diferentes puntos.\n",
        "\n",
        "- Interacción del usuario: en programas interactivos, print() se utiliza para mostrar indicaciones o mensajes al usuario y para solicitar información a través de la función input()."
      ],
      "metadata": {
        "id": "NqGSJ1VNSbEp"
      }
    },
    {
      "cell_type": "code",
      "source": [
        "print(\"Hello, World!\")"
      ],
      "metadata": {
        "colab": {
          "base_uri": "https://localhost:8080/"
        },
        "id": "eIbz6emQS3Kd",
        "outputId": "0993f573-da9d-4522-fee0-8c8c70d39362"
      },
      "execution_count": null,
      "outputs": [
        {
          "output_type": "stream",
          "name": "stdout",
          "text": [
            "Hello, World!\n"
          ]
        }
      ]
    },
    {
      "cell_type": "markdown",
      "source": [
        "*En resumen, un programa es un conjunto de instrucciones, las declaraciones son comandos individuales dentro de un programa y la función print() es esencial para mostrar resultados, ayudar en la depuración y comunicarse con los usuarios en programas Python.*"
      ],
      "metadata": {
        "id": "ZrTOTVaGUXCO"
      }
    },
    {
      "cell_type": "markdown",
      "source": [
        "# Variables - Tipo de Datos (15 minutes)"
      ],
      "metadata": {
        "id": "ABmovSt-VRoF"
      }
    },
    {
      "cell_type": "markdown",
      "source": [
        "**Las variables** en Python se utilizan para almacenar y administrar datos. Actúan como contenedores con nombre que contienen valores, lo que le permite hacer referencia a estos valores y manipularlos en todo su programa. Las variables tienen un nombre y un valor asociado a ellas.\n",
        "\n",
        "ejemplo de variables en Python:\n",
        "\n",
        "**Definición**: Las variables en Python son nombres simbólicos que representan valores o datos almacenados en la memoria de la computadora. Se utilizan para almacenar y manipular datos dentro de un programa.\n",
        "\n",
        "**Propósito de las Variables:**\n",
        "\n",
        "**Almacenamiento de datos**: las variables le permiten almacenar datos, como números, texto u objetos, para que pueda utilizar y manipular estos datos más adelante en su programa.\n",
        "\n",
        "**Manipulación de datos**: puede realizar operaciones, cálculos y transformaciones sobre los datos almacenados en variables, lo cual es esencial para resolver problemas y crear aplicaciones.\n",
        "\n",
        "**Referenciación de valores**: las variables proporcionan una forma de hacer referencia y acceder a datos en todo su programa, lo que facilita el trabajo y la gestión de datos."
      ],
      "metadata": {
        "id": "wKxZWMbHVv7p"
      }
    },
    {
      "cell_type": "code",
      "source": [
        "# Variable declaration and assignment\n",
        "name = \"John\"\n",
        "age = 30\n",
        "height = 175.5\n",
        "\n",
        "# Using variables in operations\n",
        "birth_year = 2023 - age\n",
        "current_year = 2023\n",
        "age_next_year = age + 1\n",
        "\n",
        "# Displaying the values of variables\n",
        "print(\"Name:\", name)\n",
        "print(\"Age:\", age)\n",
        "print(\"Height:\", height)\n",
        "print(\"Birth Year:\", birth_year)\n",
        "print(\"Current Year:\", current_year)\n",
        "print(\"Age Next Year:\", age_next_year)\n",
        "\n"
      ],
      "metadata": {
        "colab": {
          "base_uri": "https://localhost:8080/"
        },
        "id": "yosonjH4WN3G",
        "outputId": "37b06ce4-ca0c-432d-9878-e27a33f5f155"
      },
      "execution_count": null,
      "outputs": [
        {
          "output_type": "stream",
          "name": "stdout",
          "text": [
            "Name: John\n",
            "Age: 30\n",
            "Height: 175.5\n",
            "Birth Year: 1993\n",
            "Current Year: 2023\n",
            "Age Next Year: 31\n"
          ]
        }
      ]
    },
    {
      "cell_type": "markdown",
      "source": [
        "**En este ejemplo:**\n",
        "\n",
        "Se declaran y asignan valores a tres variables (nombre, edad y altura).\n",
        "Las operaciones se realizan utilizando estas variables, como calcular el año_nacimiento, el año_actual y la edad_año_siguiente.\n",
        "La función print() se utiliza para mostrar los valores de estas variables.\n",
        "Las variables son un concepto fundamental en la programación, ya que le permiten trabajar y manipular datos dinámicamente, lo que hace que su código sea flexible y potente."
      ],
      "metadata": {
        "id": "icQNySTtWmJR"
      }
    },
    {
      "cell_type": "markdown",
      "source": [
        "En Python, existen varios tipos de datos comunes, incluidos números enteros, flotantes y cadenas. Exploremos cada tipo de datos y cómo usarlos"
      ],
      "metadata": {
        "id": "69GN7QJ4XpyW"
      }
    },
    {
      "cell_type": "markdown",
      "source": [
        "1. **Números enteros (int):**\n",
        "\n",
        "Los números enteros representan números enteros, tanto positivos como negativos, sin punto decimal.\n",
        "Ejemplos de números enteros: 0, 1, -100, 42, 1000, etc."
      ],
      "metadata": {
        "id": "rtV1isPJX063"
      }
    },
    {
      "cell_type": "code",
      "source": [
        "# Examples of integers\n",
        "age = 30\n",
        "quantity = -10"
      ],
      "metadata": {
        "id": "zx_P7-RlX5Ct"
      },
      "execution_count": null,
      "outputs": []
    },
    {
      "cell_type": "markdown",
      "source": [
        "2. **Floats (float):**\n",
        "\n",
        "Los floats, representan números con puntos decimales o fracciones.\n",
        "Ejemplos de flotadores: 3,14, -0,5, 2,0, 9,99, etc."
      ],
      "metadata": {
        "id": "pQi5TmSwYBMC"
      }
    },
    {
      "cell_type": "code",
      "source": [
        "# Examples of floats\n",
        "pi = 3.14159\n",
        "temperature = 98.6"
      ],
      "metadata": {
        "id": "U4OUcaqfYPks"
      },
      "execution_count": null,
      "outputs": []
    },
    {
      "cell_type": "markdown",
      "source": [
        "3. **Strings (str):**\n",
        "\n",
        "Las *strings* representan secuencias de caracteres, como letras, números y símbolos, encerrados entre comillas simples (' '), dobles (\" \") o triples (''' ''' o \"\"\" \"\"\").\n",
        "Ejemplos de cadenas: \"¡Hola mundo!\", 'Python', \"12345\", etc."
      ],
      "metadata": {
        "id": "B9vdxjoUYZ0s"
      }
    },
    {
      "cell_type": "code",
      "source": [
        "# Examples of strings\n",
        "greeting = \"Hello, World!\"\n",
        "name = 'Alice'\n",
        "sentence = \"Python is a versatile language.\""
      ],
      "metadata": {
        "id": "biBJCnIJYkIs"
      },
      "execution_count": null,
      "outputs": []
    },
    {
      "cell_type": "markdown",
      "source": [
        "**Asignación de variables:**\n",
        "\n",
        "puede asignar valores de estos tipos de datos a variables utilizando el operador de asignación (=)."
      ],
      "metadata": {
        "id": "GoOMmfLPn1iq"
      }
    },
    {
      "cell_type": "code",
      "source": [
        "# Assigning values to variables\n",
        "age = 30\n",
        "temperature = 98.6\n",
        "greeting = \"Hello, World!\""
      ],
      "metadata": {
        "id": "4TTGDFZFn3Wz"
      },
      "execution_count": null,
      "outputs": []
    },
    {
      "cell_type": "code",
      "source": [
        "# Arithmetic operations\n",
        "x = 10\n",
        "y = 3\n",
        "sum_result = x + y  # Adds two integers\n",
        "product_result = x * 1.5  # Multiplies an integer by a float\n",
        "\n",
        "# String concatenation\n",
        "first_name = \"John\"\n",
        "last_name = \"Doe\"\n",
        "full_name = first_name + \" \" + last_name  # Combines two strings"
      ],
      "metadata": {
        "id": "UVH5iYM_oA3U"
      },
      "execution_count": null,
      "outputs": []
    },
    {
      "cell_type": "code",
      "source": [
        "age_str = \"25\"\n",
        "age_int = int(age_str)  # Converts a string to an integer\n",
        "price_float = 19.99\n",
        "price_str = str(price_float)  # Converts a float to a string"
      ],
      "metadata": {
        "id": "-lsQN_YJoEAK"
      },
      "execution_count": null,
      "outputs": []
    },
    {
      "cell_type": "markdown",
      "source": [
        "Comprender y utilizar eficazmente estos tipos de datos comunes es esencial en la programación Python, ya que forman la base para trabajar con varios tipos de datos y realizar operaciones con ellos."
      ],
      "metadata": {
        "id": "r9wTv1QcoJ5g"
      }
    },
    {
      "cell_type": "markdown",
      "source": [
        "# Control Flow"
      ],
      "metadata": {
        "id": "hp7xCFwqATqd"
      }
    },
    {
      "cell_type": "markdown",
      "source": [
        "Las declaraciones condicionales en Python (if, elif, else) se utilizan para controlar el flujo de un programa en función de determinadas condiciones. Estas declaraciones le permiten ejecutar diferentes bloques de código dependiendo de si se cumplen condiciones específicas. Aquí hay una introducción a las declaraciones condicionales y su sintaxis en Python:"
      ],
      "metadata": {
        "id": "xHRigSkXAhzV"
      }
    },
    {
      "cell_type": "markdown",
      "source": [
        "##  if Statement:\n",
        "The if statement is used to execute a block of code only if a specified condition is True. If the condition is False, the code block is skipped."
      ],
      "metadata": {
        "id": "fFh6xODJBgzX"
      }
    },
    {
      "cell_type": "code",
      "source": [
        "age = 25\n",
        "if age >= 18:\n",
        "    print(\"You are an adult.\")\n"
      ],
      "metadata": {
        "colab": {
          "base_uri": "https://localhost:8080/"
        },
        "id": "2v1ZM4ciB6QU",
        "outputId": "a0ed234d-3ee0-468e-ac61-3e84d1378f8b"
      },
      "execution_count": 5,
      "outputs": [
        {
          "output_type": "stream",
          "name": "stdout",
          "text": [
            "You are an adult.\n"
          ]
        }
      ]
    },
    {
      "cell_type": "markdown",
      "source": [
        "## elif (else if) Statement:\n",
        "The elif statement is used to check additional conditions after the initial if condition. If the previous if or elif conditions are False, it evaluates the current condition. You can have multiple elif blocks."
      ],
      "metadata": {
        "id": "vUJuLo2sBtcz"
      }
    },
    {
      "cell_type": "markdown",
      "source": [
        "if condition1:\n",
        "    # Code to execute if condition1 is True\n",
        "elif condition2:\n",
        "    # Code to execute if condition1 is False but condition2 is True\n"
      ],
      "metadata": {
        "id": "At0WrXWEBDui"
      }
    },
    {
      "cell_type": "code",
      "source": [
        "score = 75\n",
        "if score >= 90:\n",
        "    print(\"You got an A.\")\n",
        "elif score >= 80:\n",
        "    print(\"You got a B.\")\n",
        "elif score >= 70:\n",
        "    print(\"You got a C.\")"
      ],
      "metadata": {
        "colab": {
          "base_uri": "https://localhost:8080/"
        },
        "id": "nUBTbXWHBI44",
        "outputId": "c8a604fa-6a2b-4241-b3eb-0386b28798d0"
      },
      "execution_count": 3,
      "outputs": [
        {
          "output_type": "stream",
          "name": "stdout",
          "text": [
            "You got a C.\n"
          ]
        }
      ]
    },
    {
      "cell_type": "markdown",
      "source": [
        "## else Statement:\n",
        "The else statement is used to specify a block of code that will be executed if none of the preceding conditions (if and elif) are True. It is optional and can only appear once at the end of the conditional block."
      ],
      "metadata": {
        "id": "_hGzVE7ZCCfQ"
      }
    },
    {
      "cell_type": "code",
      "source": [
        "num = 7\n",
        "if num % 2 == 0:\n",
        "    print(\"Even\")\n",
        "else:\n",
        "    print(\"Odd\")"
      ],
      "metadata": {
        "colab": {
          "base_uri": "https://localhost:8080/"
        },
        "id": "SpCq93DVBJtT",
        "outputId": "05050123-cc2b-4b6d-d551-6b093a823142"
      },
      "execution_count": 4,
      "outputs": [
        {
          "output_type": "stream",
          "name": "stdout",
          "text": [
            "Odd\n"
          ]
        }
      ]
    },
    {
      "cell_type": "code",
      "source": [],
      "metadata": {
        "id": "srUNPCc9BS2F"
      },
      "execution_count": null,
      "outputs": []
    },
    {
      "cell_type": "markdown",
      "source": [
        "## Condicionales anidados"
      ],
      "metadata": {
        "id": "S9nzMNRSBVAU"
      }
    },
    {
      "cell_type": "code",
      "source": [
        "x = 10\n",
        "if x > 5:\n",
        "    if x < 15:\n",
        "        print(\"x is between 5 and 15\")\n",
        "    else:\n",
        "        print(\"x is greater than or equal to 15\")\n",
        "else:\n",
        "    print(\"x is less than or equal to 5\")\n"
      ],
      "metadata": {
        "colab": {
          "base_uri": "https://localhost:8080/"
        },
        "id": "1k6esOQ2BZ2E",
        "outputId": "4c5a14c6-9cec-4cc4-be57-b00b84c7d2d1"
      },
      "execution_count": 6,
      "outputs": [
        {
          "output_type": "stream",
          "name": "stdout",
          "text": [
            "x is between 5 and 15\n"
          ]
        }
      ]
    },
    {
      "cell_type": "markdown",
      "source": [
        "# Loops"
      ],
      "metadata": {
        "id": "0o2y76LwCcbm"
      }
    },
    {
      "cell_type": "markdown",
      "source": [
        "Los bucles en Python (específicamente los bucles for y while) son estructuras de control que le permiten ejecutar repetidamente un bloque de código siempre que se cumpla una determinada condición. Estos bucles son fundamentales para automatizar tareas repetitivas e iterar sobre estructuras de datos. Aquí hay una explicación de los bucles for y while con ejemplos básicos:"
      ],
      "metadata": {
        "id": "uDKsOVEyCj0z"
      }
    },
    {
      "cell_type": "code",
      "source": [],
      "metadata": {
        "id": "uSPzRIyqCltM"
      },
      "execution_count": null,
      "outputs": []
    },
    {
      "cell_type": "markdown",
      "source": [
        "## for Loop:\n",
        "A for loop se utiliza cuando sabes de antemano cuántas veces deseas ejecutar un bloque de código. Itera sobre una secuencia (por ejemplo, una lista, tupla, cadena o rango) y ejecuta el bloque de código para cada elemento de la secuencia.\n",
        "\n"
      ],
      "metadata": {
        "id": "IT7XAG3gCrPH"
      }
    },
    {
      "cell_type": "code",
      "source": [
        "for variable in sequence:\n",
        "    # Code to execute for each item in the sequence\n"
      ],
      "metadata": {
        "id": "4fFwd3j2Cvob"
      },
      "execution_count": null,
      "outputs": []
    },
    {
      "cell_type": "code",
      "source": [
        "fruits = [\"apple\", \"banana\", \"cherry\"]\n",
        "for fruit in fruits:\n",
        "    print(fruit)\n"
      ],
      "metadata": {
        "colab": {
          "base_uri": "https://localhost:8080/"
        },
        "id": "VfNdZugeDC5W",
        "outputId": "4239249f-ed3d-47c6-df0f-71c133d53070"
      },
      "execution_count": 7,
      "outputs": [
        {
          "output_type": "stream",
          "name": "stdout",
          "text": [
            "apple\n",
            "banana\n",
            "cherry\n"
          ]
        }
      ]
    },
    {
      "cell_type": "code",
      "source": [],
      "metadata": {
        "id": "m_SScptDDDuE"
      },
      "execution_count": null,
      "outputs": []
    },
    {
      "cell_type": "markdown",
      "source": [
        "## while Loop:\n",
        "A while loop se utiliza cuando desea ejecutar un bloque de código siempre que una determinada condición sea Verdadera. Continúa en bucle hasta que la condición se vuelve Falsa."
      ],
      "metadata": {
        "id": "9QbN-Qm3DLfr"
      }
    },
    {
      "cell_type": "code",
      "source": [
        "while condition:\n",
        "    # Code to execute while the condition is True\n"
      ],
      "metadata": {
        "id": "_jbhnq7NDSOU"
      },
      "execution_count": null,
      "outputs": []
    },
    {
      "cell_type": "code",
      "source": [
        "count = 0\n",
        "while count < 5:\n",
        "    print(\"Count is\", count)\n",
        "    count += 1"
      ],
      "metadata": {
        "colab": {
          "base_uri": "https://localhost:8080/"
        },
        "id": "xhNJmaK1DWQB",
        "outputId": "eed50748-057e-40f9-d618-cb908190e0b9"
      },
      "execution_count": 8,
      "outputs": [
        {
          "output_type": "stream",
          "name": "stdout",
          "text": [
            "Count is 0\n",
            "Count is 1\n",
            "Count is 2\n",
            "Count is 3\n",
            "Count is 4\n"
          ]
        }
      ]
    },
    {
      "cell_type": "markdown",
      "source": [
        "## Loop Control Statements:"
      ],
      "metadata": {
        "id": "TNqVJmstDdHw"
      }
    },
    {
      "cell_type": "markdown",
      "source": [
        "- **break:** finaliza el ciclo prematuramente, incluso si la condición del ciclo sigue siendo verdadera.\n",
        "- **continuar:** omite la iteración actual del bucle y pasa a la siguiente.\n",
        "- **else:** puede usar el bloque else con un bucle para especificar el código que debe ejecutarse cuando el bucle se completa normalmente (es decir, sin una declaración de interrupción)."
      ],
      "metadata": {
        "id": "mh6P_npQDkXC"
      }
    },
    {
      "cell_type": "code",
      "source": [
        "numbers = [1, 2, 3, 4, 5]\n",
        "for num in numbers:\n",
        "    if num == 3:\n",
        "        break\n",
        "    print(num)"
      ],
      "metadata": {
        "colab": {
          "base_uri": "https://localhost:8080/"
        },
        "id": "xfdhNccDDyZT",
        "outputId": "137d6de8-2913-48e6-e63d-68490b463767"
      },
      "execution_count": 9,
      "outputs": [
        {
          "output_type": "stream",
          "name": "stdout",
          "text": [
            "1\n",
            "2\n"
          ]
        }
      ]
    },
    {
      "cell_type": "code",
      "source": [
        "numbers = [1, 2, 3, 4, 5]\n",
        "for num in numbers:\n",
        "    if num == 3:\n",
        "        continue\n",
        "    print(num)"
      ],
      "metadata": {
        "colab": {
          "base_uri": "https://localhost:8080/"
        },
        "id": "JTPTpwlpD5bM",
        "outputId": "6e7b41fa-2dac-4cd5-f596-e0a062bd9f30"
      },
      "execution_count": 10,
      "outputs": [
        {
          "output_type": "stream",
          "name": "stdout",
          "text": [
            "1\n",
            "2\n",
            "4\n",
            "5\n"
          ]
        }
      ]
    },
    {
      "cell_type": "code",
      "source": [],
      "metadata": {
        "id": "v7fH5rhqEve7"
      },
      "execution_count": null,
      "outputs": []
    },
    {
      "cell_type": "markdown",
      "source": [
        "# Ejercicios"
      ],
      "metadata": {
        "id": "HhMHcI08E0o2"
      }
    },
    {
      "cell_type": "markdown",
      "source": [
        "\n",
        "\n",
        "1.   Escriba un programa en Python que imprima los cuadrados de los números del 1 al 5 usando un bucle for.\n",
        "2.   Escriba un programa Python que calcule la suma de todos los números enteros positivos menores o iguales a 10 usando un bucle while.\n",
        "3.  Escriba un programa en Python que utilice un bucle for para encontrar el primer número par en una lista de números enteros.\n",
        "4. Escriba un programa en Python que utilice un bucle for para imprimir todos los números impares del 1 al 10, omitiendo los números pares.\n",
        "\n"
      ],
      "metadata": {
        "id": "imfJjS0ZFDym"
      }
    },
    {
      "cell_type": "code",
      "source": [
        "# Using a for loop to print the squares of numbers from 1 to 5\n",
        "for num in range(1, 6):\n",
        "    square = num ** 2\n",
        "    print(f\"The square of {num} is {square}\")\n"
      ],
      "metadata": {
        "colab": {
          "base_uri": "https://localhost:8080/"
        },
        "id": "iUB2LnMqFisz",
        "outputId": "ef114ae8-e461-45fb-94b5-ef86c91c6693"
      },
      "execution_count": 11,
      "outputs": [
        {
          "output_type": "stream",
          "name": "stdout",
          "text": [
            "The square of 1 is 1\n",
            "The square of 2 is 4\n",
            "The square of 3 is 9\n",
            "The square of 4 is 16\n",
            "The square of 5 is 25\n"
          ]
        }
      ]
    },
    {
      "cell_type": "code",
      "source": [
        "# Using a while loop to calculate the sum of positive integers up to 10\n",
        "total = 0\n",
        "num = 1\n",
        "\n",
        "while num <= 10:\n",
        "    total += num\n",
        "    num += 1\n",
        "\n",
        "print(\"The sum of positive integers up to 10 is:\", total)\n"
      ],
      "metadata": {
        "colab": {
          "base_uri": "https://localhost:8080/"
        },
        "id": "2y9cu6oKFq4z",
        "outputId": "ff64c1cc-04e1-434a-8e06-d90277be1a58"
      },
      "execution_count": 12,
      "outputs": [
        {
          "output_type": "stream",
          "name": "stdout",
          "text": [
            "The sum of positive integers up to 10 is: 55\n"
          ]
        }
      ]
    },
    {
      "cell_type": "code",
      "source": [
        "numbers = [3, 7, 1, 8, 4, 6, 9]\n",
        "\n",
        "for num in numbers:\n",
        "    if num % 2 == 0:\n",
        "        print(f\"The first even number is {num}\")\n",
        "        break\n"
      ],
      "metadata": {
        "colab": {
          "base_uri": "https://localhost:8080/"
        },
        "id": "eRc1GN-VFuxs",
        "outputId": "c8558cba-b1db-46e7-c3eb-1e9c8901936a"
      },
      "execution_count": 13,
      "outputs": [
        {
          "output_type": "stream",
          "name": "stdout",
          "text": [
            "The first even number is 8\n"
          ]
        }
      ]
    },
    {
      "cell_type": "code",
      "source": [
        "# Using a for loop to print odd numbers from 1 to 10, skipping even numbers\n",
        "for num in range(1, 11):\n",
        "    if num % 2 == 0:\n",
        "        continue\n",
        "    print(num)\n"
      ],
      "metadata": {
        "colab": {
          "base_uri": "https://localhost:8080/"
        },
        "id": "RAVE4a8bFw_Q",
        "outputId": "cb3971c6-dadc-4b02-d63a-772db83f1bb5"
      },
      "execution_count": 14,
      "outputs": [
        {
          "output_type": "stream",
          "name": "stdout",
          "text": [
            "1\n",
            "3\n",
            "5\n",
            "7\n",
            "9\n"
          ]
        }
      ]
    },
    {
      "cell_type": "markdown",
      "source": [
        "# Funciones"
      ],
      "metadata": {
        "id": "5ifBOlxIGCim"
      }
    },
    {
      "cell_type": "markdown",
      "source": [
        "En Python hay bloques de código reutilizables que realizan tareas específicas. Promueven la reutilización, la modularidad y la legibilidad del código al dividir programas complejos en partes más pequeñas y manejables. Las funciones facilitan el mantenimiento, las pruebas y la colaboración en el código."
      ],
      "metadata": {
        "id": "c4u3WvVAGKN_"
      }
    },
    {
      "cell_type": "code",
      "source": [
        "# Define a function that calculates the square of a number\n",
        "def square(number):\n",
        "    result = number ** 2\n",
        "    return result\n",
        "\n",
        "# Call the function and store the result in a variable\n",
        "x = 5\n",
        "x_squared = square(x)\n",
        "\n",
        "# Print the result\n",
        "print(f\"The square of {x} is {x_squared}\")\n"
      ],
      "metadata": {
        "colab": {
          "base_uri": "https://localhost:8080/"
        },
        "id": "WxYsTi0MGKzs",
        "outputId": "3c476b44-38b6-4626-b389-c406e2a5991d"
      },
      "execution_count": 15,
      "outputs": [
        {
          "output_type": "stream",
          "name": "stdout",
          "text": [
            "The square of 5 is 25\n"
          ]
        }
      ]
    },
    {
      "cell_type": "markdown",
      "source": [
        "En este ejemplo:\n",
        "\n",
        "- Definimos una función llamada cuadrado que toma un parámetro (número).\n",
        "- Dentro de la función, calculamos el cuadrado del número elevándolo a la potencia de 2 y almacenamos el resultado en la variable de resultado.\n",
        "- Usamos la declaración de devolución para enviar el valor del resultado a la persona que llama.\n",
        "- Llamamos a la función cuadrado con el argumento x = 5 y almacenamos el valor devuelto en la variable x_squared.\n",
        "- Finalmente, imprimimos el resultado, que muestra \"El cuadrado de 5 es 25\" porque 5 al cuadrado es 25.\n",
        "\n",
        "Esto demuestra cómo las funciones pueden tomar parámetros de entrada, realizar cálculos u operaciones con ellos y devolver resultados que pueden usarse en otras partes de su programa."
      ],
      "metadata": {
        "id": "0X7IFMR_GdLW"
      }
    },
    {
      "cell_type": "code",
      "source": [],
      "metadata": {
        "id": "MBlRnDd_Gqn8"
      },
      "execution_count": null,
      "outputs": []
    },
    {
      "cell_type": "markdown",
      "source": [
        "# Listas-diccionarios"
      ],
      "metadata": {
        "id": "F16OSRXRG7uq"
      }
    },
    {
      "cell_type": "markdown",
      "source": [
        "Listas:\n",
        "\n",
        "- Una lista en Python es una colección ordenada de elementos, donde cada elemento puede ser de cualquier tipo de datos (incluidas otras listas).\n",
        "- Las listas se definen encerrando elementos entre corchetes [] y separándolos con comas.\n",
        "- Las listas son mutables, lo que significa que puede modificar su contenido (agregar, eliminar o cambiar elementos) después de su creación.\n",
        "- Las listas están indexadas, lo que significa que puede acceder a los elementos por su posición (índice) dentro de la lista, comenzando con el índice 0."
      ],
      "metadata": {
        "id": "WsrOUvUeHGoQ"
      }
    },
    {
      "cell_type": "code",
      "source": [
        "fruits = [\"apple\", \"banana\", \"cherry\"]\n",
        "numbers = [1, 2, 3, 4, 5]\n",
        "mixed_list = [1, \"hello\", True, 3.14]\n"
      ],
      "metadata": {
        "id": "nPloJnGWHP2U"
      },
      "execution_count": 16,
      "outputs": []
    },
    {
      "cell_type": "markdown",
      "source": [
        "Diccionarios:\n",
        "\n",
        "- Un diccionario en Python es una colección desordenada de pares clave-valor.\n",
        "- Los diccionarios se definen usando llaves {} o con el constructor dict(), y los pares clave-valor están separados por dos puntos :. Cada clave es única dentro de un diccionario.\n",
        "- Los diccionarios son mutables, lo que le permite agregar, modificar o eliminar pares clave-valor.\n",
        "- Puede acceder a los valores de un diccionario utilizando sus claves, no sus posiciones."
      ],
      "metadata": {
        "id": "zCvRLym9HYQr"
      }
    },
    {
      "cell_type": "code",
      "source": [
        "person = {\n",
        "    \"name\": \"Alice\",\n",
        "    \"age\": 30,\n",
        "    \"city\": \"New York\"\n",
        "}\n",
        "student_scores = {\"John\": 90, \"Emma\": 88, \"Michael\": 75}\n"
      ],
      "metadata": {
        "id": "1s216e2zHhxM"
      },
      "execution_count": 17,
      "outputs": []
    },
    {
      "cell_type": "markdown",
      "source": [
        "Tuplas:\n",
        "\n",
        "- Una tupla en Python es una colección ordenada de elementos, similar a una lista, pero a diferencia de las listas, las tuplas son inmutables, lo que significa que su contenido no se puede cambiar después de su creación.\n",
        "- Las tuplas se definen encerrando elementos entre paréntesis () y separándolos con comas.\n",
        "- Las tuplas se utilizan a menudo para representar colecciones de elementos que no deberían cambiar, como coordenadas o configuraciones."
      ],
      "metadata": {
        "id": "QHczVSMHHqFB"
      }
    },
    {
      "cell_type": "code",
      "source": [
        "coordinates = (3, 4)\n",
        "colors = (\"red\", \"green\", \"blue\")\n"
      ],
      "metadata": {
        "id": "EztulF5FHrY0"
      },
      "execution_count": 18,
      "outputs": []
    },
    {
      "cell_type": "markdown",
      "source": [
        "En resumen:\n",
        "\n",
        "Las listas son colecciones de elementos ordenadas y mutables.\n",
        "Los diccionarios son colecciones desordenadas de pares clave-valor.\n",
        "Las tuplas son colecciones de elementos ordenadas e inmutables.\n",
        "Estas estructuras de datos son esenciales para administrar y organizar datos en programas Python y se utilizan en diversas aplicaciones, según sus necesidades específicas."
      ],
      "metadata": {
        "id": "G9mWWFKCH3fb"
      }
    },
    {
      "cell_type": "markdown",
      "source": [
        "# Input and Output"
      ],
      "metadata": {
        "id": "5420Cxj5IFE4"
      }
    },
    {
      "cell_type": "markdown",
      "source": [
        "En Python, puedes usar la función input() para recibir la entrada del usuario desde el teclado. La función input() lee una línea de texto ingresada por el usuario y la devuelve como una cadena. Así es como puedes usarlo:"
      ],
      "metadata": {
        "id": "PYTRVvVkIQuo"
      }
    },
    {
      "cell_type": "code",
      "source": [
        "# Using the input() function to take user input\n",
        "user_input = input(\"Enter something: \")  # Prompt the user for input\n",
        "\n",
        "# Display the user's input\n",
        "print(\"You entered:\", user_input)\n"
      ],
      "metadata": {
        "colab": {
          "base_uri": "https://localhost:8080/"
        },
        "id": "Zy_Xt06GIRSU",
        "outputId": "4f7750de-2735-4c92-dcb8-45ebf003a012"
      },
      "execution_count": 19,
      "outputs": [
        {
          "output_type": "stream",
          "name": "stdout",
          "text": [
            "Enter something: mi nombre es David!\n",
            "You entered: mi nombre es David!\n"
          ]
        }
      ]
    },
    {
      "cell_type": "markdown",
      "source": [
        "En este ejemplo:\n",
        "\n",
        "- La función input() se llama con un argumento de cadena opcional, que se utiliza como mensaje para indicarle al usuario qué ingresar. En este caso, el mensaje es \"Ingrese algo:\".\n",
        "\n",
        "- El usuario ingresa texto en respuesta al mensaje y su entrada se almacena en la variable user_input como una cadena.\n",
        "\n",
        "- Finalmente, el programa imprime la entrada del usuario.\n",
        "\n",
        "Tenga en cuenta que input() siempre devuelve una cadena, por lo que si necesita trabajar con valores numéricos, necesitará convertir la entrada usando funciones como int() o float():"
      ],
      "metadata": {
        "id": "TWN9uJl8IlDX"
      }
    },
    {
      "cell_type": "code",
      "source": [
        "# Taking numeric input and converting it to an integer\n",
        "age_str = input(\"Enter your age: \")\n",
        "age = int(age_str)  # Convert the input string to an integer\n",
        "\n",
        "# Performing calculations with the user's age\n",
        "double_age = age * 2\n",
        "print(\"Double your age is:\", double_age)\n"
      ],
      "metadata": {
        "colab": {
          "base_uri": "https://localhost:8080/"
        },
        "id": "O6PdMXFFIu-b",
        "outputId": "8affd50d-05d3-4fc2-b576-54b0bf5be076"
      },
      "execution_count": 20,
      "outputs": [
        {
          "output_type": "stream",
          "name": "stdout",
          "text": [
            "Enter your age: 40\n",
            "Double your age is: 80\n"
          ]
        }
      ]
    },
    {
      "cell_type": "markdown",
      "source": [
        "# Print"
      ],
      "metadata": {
        "id": "816PXQpVJADR"
      }
    },
    {
      "cell_type": "markdown",
      "source": [
        "La función print() en Python se utiliza para mostrar texto, variables u otros datos en la consola o en la salida estándar. Es una herramienta esencial para comunicarse con los usuarios y con fines de depuración. También puede formatear la salida utilizando varias técnicas. Exploremos la función print() y cómo formatear la salida en Python:\n",
        "\n",
        "Uso básico de print():\n",
        "El uso más simple de print() implica pasar uno o más valores o expresiones como argumentos a la función. La función imprimirá estos valores como cadenas, separados por espacios, y luego agregará un carácter de nueva línea de forma predeterminada para pasar a la siguiente línea."
      ],
      "metadata": {
        "id": "dCsHaLP2JGj8"
      }
    },
    {
      "cell_type": "code",
      "source": [
        "name = \"Alice\"\n",
        "age = 30\n",
        "print(\"Hello,\", name)\n",
        "print(\"Your age is:\", age)\n"
      ],
      "metadata": {
        "colab": {
          "base_uri": "https://localhost:8080/"
        },
        "id": "9ymbeztEJMfR",
        "outputId": "f7f2e7db-1663-42d5-9138-2a947e9dfd70"
      },
      "execution_count": 21,
      "outputs": [
        {
          "output_type": "stream",
          "name": "stdout",
          "text": [
            "Hello, Alice\n",
            "Your age is: 30\n"
          ]
        }
      ]
    },
    {
      "cell_type": "code",
      "source": [
        "#String Concatenation:\n",
        "name = \"Alice\"\n",
        "age = 30\n",
        "print(\"Hello, \" + name + \". Your age is: \" + str(age))\n"
      ],
      "metadata": {
        "colab": {
          "base_uri": "https://localhost:8080/"
        },
        "id": "WB7Q3iJYJPFF",
        "outputId": "cf2c46f8-a25d-44c3-dc6d-d2a5defc9f2e"
      },
      "execution_count": 22,
      "outputs": [
        {
          "output_type": "stream",
          "name": "stdout",
          "text": [
            "Hello, Alice. Your age is: 30\n"
          ]
        }
      ]
    },
    {
      "cell_type": "markdown",
      "source": [
        "Python 3.6 y versiones posteriores admiten cadenas f, una forma concisa y legible de formatear la salida. Puede colocar variables directamente dentro de cadenas f usando llaves {} y prefijar la cadena con una 'f' o 'F'."
      ],
      "metadata": {
        "id": "_oZ0KAtAJewf"
      }
    },
    {
      "cell_type": "code",
      "source": [
        "name = \"Alice\"\n",
        "age = 30\n",
        "print(f\"Hello, {name}. Your age is: {age}\")\n"
      ],
      "metadata": {
        "colab": {
          "base_uri": "https://localhost:8080/"
        },
        "id": "QMKb5OgHJWjt",
        "outputId": "790ab691-27ee-4314-cec4-7e505f6f2107"
      },
      "execution_count": 23,
      "outputs": [
        {
          "output_type": "stream",
          "name": "stdout",
          "text": [
            "Hello, Alice. Your age is: 30\n"
          ]
        }
      ]
    },
    {
      "cell_type": "markdown",
      "source": [
        "Formato de cadenas usando .format(): puede usar el método .format() para formatear cadenas con marcadores de posición {} que serán reemplazados por variables o valores."
      ],
      "metadata": {
        "id": "2NXRN2P9Jvm1"
      }
    },
    {
      "cell_type": "code",
      "source": [
        "name = \"Alice\"\n",
        "age = 30\n",
        "output = \"Hello, {}. Your age is: {}\".format(name, age)\n",
        "print(output)\n"
      ],
      "metadata": {
        "colab": {
          "base_uri": "https://localhost:8080/"
        },
        "id": "qVNjAxxsJipU",
        "outputId": "c2b327ff-1202-4f99-f1b6-e7329f417815"
      },
      "execution_count": 24,
      "outputs": [
        {
          "output_type": "stream",
          "name": "stdout",
          "text": [
            "Hello, Alice. Your age is: 30\n"
          ]
        }
      ]
    },
    {
      "cell_type": "markdown",
      "source": [
        "**Precisión y ancho:** puede controlar la precisión y el ancho de los valores numéricos utilizando especificadores de formato. Por ejemplo, para formatear un número de punto flotante con dos decimales:"
      ],
      "metadata": {
        "id": "cGe2x_mYJ94H"
      }
    },
    {
      "cell_type": "code",
      "source": [
        "pi = 3.14159265359\n",
        "print(f\"Pi: {pi:.2f}\")\n"
      ],
      "metadata": {
        "colab": {
          "base_uri": "https://localhost:8080/"
        },
        "id": "EaF4oSxRJwZE",
        "outputId": "e32074b7-4d62-483e-9260-a122039c0ec8"
      },
      "execution_count": 25,
      "outputs": [
        {
          "output_type": "stream",
          "name": "stdout",
          "text": [
            "Pi: 3.14\n"
          ]
        }
      ]
    },
    {
      "cell_type": "markdown",
      "source": [
        "# Error Handling"
      ],
      "metadata": {
        "id": "ivK80oTKKUSg"
      }
    },
    {
      "cell_type": "markdown",
      "source": [
        "En Python, los bloques try y except se utilizan para manejar excepciones, que son errores que ocurren durante la ejecución de un programa. Al utilizar estos bloques, puede manejar errores con elegancia, evitar que su programa falle y proporcionar mensajes de error útiles a los usuarios. Aquí hay una introducción a los bloques try y except para el manejo básico de errores en Python:"
      ],
      "metadata": {
        "id": "7huI7R_IKb0U"
      }
    },
    {
      "cell_type": "code",
      "source": [
        "try:\n",
        "    # Code that might raise an exception\n",
        "    # ...\n",
        "except ExceptionType:\n",
        "    # Code to handle the exception\n",
        "    # ...\n"
      ],
      "metadata": {
        "id": "NhCNHVMjKcms"
      },
      "execution_count": null,
      "outputs": []
    },
    {
      "cell_type": "markdown",
      "source": [
        "- El bloque try contiene el código que podría generar una excepción.\n",
        "- El bloque except se ejecuta si se produce una excepción del ExceptionType especificado en el bloque try."
      ],
      "metadata": {
        "id": "uVC0rWfzKiyn"
      }
    },
    {
      "cell_type": "code",
      "source": [
        "try:\n",
        "    numerator = 10\n",
        "    denominator = 0\n",
        "    result = numerator / denominator  # Division by zero will raise an exception\n",
        "except ZeroDivisionError:\n",
        "    print(\"Error: Division by zero is not allowed.\")\n"
      ],
      "metadata": {
        "colab": {
          "base_uri": "https://localhost:8080/"
        },
        "id": "VeiWKN5AKtuU",
        "outputId": "99eae7ca-d93c-470e-9a9f-949d27a34e12"
      },
      "execution_count": 26,
      "outputs": [
        {
          "output_type": "stream",
          "name": "stdout",
          "text": [
            "Error: Division by zero is not allowed.\n"
          ]
        }
      ]
    },
    {
      "cell_type": "markdown",
      "source": [
        "En este ejemplo, el código dentro del bloque try intenta dividir el numerador por el denominador. Dado que la división por cero no está permitida en Python y genera un ZeroDivisionError, detectamos esta excepción en el bloque excepto e imprimimos un mensaje de error."
      ],
      "metadata": {
        "id": "JjsnBP4nK16K"
      }
    },
    {
      "cell_type": "code",
      "source": [
        "try:\n",
        "    number = int(input(\"Enter a number: \"))\n",
        "    result = 10 / number\n",
        "except ValueError:\n",
        "    print(\"Error: Invalid input. Please enter a valid number.\")\n",
        "except ZeroDivisionError:\n",
        "    print(\"Error: Division by zero is not allowed.\")\n"
      ],
      "metadata": {
        "colab": {
          "base_uri": "https://localhost:8080/"
        },
        "id": "3KiBrbHCK2nU",
        "outputId": "30669506-c141-4812-a5d3-151c592d7f4d"
      },
      "execution_count": 28,
      "outputs": [
        {
          "output_type": "stream",
          "name": "stdout",
          "text": [
            "Enter a number: 0\n",
            "Error: Division by zero is not allowed.\n"
          ]
        }
      ]
    },
    {
      "cell_type": "markdown",
      "source": [
        "En este ejemplo, detectamos ValueError si el usuario ingresa una entrada no numérica y ZeroDivisionError si el usuario ingresa cero como entrada."
      ],
      "metadata": {
        "id": "n9uQ3LxHLBf8"
      }
    },
    {
      "cell_type": "markdown",
      "source": [
        "**The else Block:**\n",
        "También puedes incluir un bloque else después de todo, excepto los bloques. El código dentro del bloque else se ejecuta si no se genera ninguna excepción en el bloque try."
      ],
      "metadata": {
        "id": "uC6URppgLLj0"
      }
    },
    {
      "cell_type": "code",
      "source": [
        "try:\n",
        "    number = int(input(\"Enter a number: \"))\n",
        "except ValueError:\n",
        "    print(\"Error: Invalid input. Please enter a valid number.\")\n",
        "else:\n",
        "    result = 10 / number\n",
        "    print(f\"Result: {result}\")\n"
      ],
      "metadata": {
        "colab": {
          "base_uri": "https://localhost:8080/"
        },
        "id": "Xkm8dazWLO3d",
        "outputId": "24fc928f-670b-4cfd-b4a7-ed6f0bccbcbf"
      },
      "execution_count": 30,
      "outputs": [
        {
          "output_type": "stream",
          "name": "stdout",
          "text": [
            "Enter a number: 5\n",
            "Result: 2.0\n"
          ]
        }
      ]
    },
    {
      "cell_type": "code",
      "source": [],
      "metadata": {
        "id": "Cj9KXHL_LQ1s"
      },
      "execution_count": null,
      "outputs": []
    },
    {
      "cell_type": "markdown",
      "source": [
        "**The finally Block:**\n",
        "Además, puede utilizar un bloque finalmente para ejecutar código que siempre debería ejecutarse, independientemente de si se produjo una excepción o no."
      ],
      "metadata": {
        "id": "PU1ah7AELeSi"
      }
    },
    {
      "cell_type": "code",
      "source": [
        "try:\n",
        "    # Code that may raise an exception\n",
        "except ExceptionType:\n",
        "    # Code to handle the exception\n",
        "finally:\n",
        "    # Code that always runs\n"
      ],
      "metadata": {
        "id": "GWtfXXoCLhrN"
      },
      "execution_count": null,
      "outputs": []
    }
  ]
}